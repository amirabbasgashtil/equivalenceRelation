{
 "cells": [
  {
   "cell_type": "markdown",
   "metadata": {},
   "source": [
    "In this notebook we argue about equivalence relations in math"
   ]
  },
  {
   "cell_type": "markdown",
   "metadata": {},
   "source": [
    "We have two sets as A and B and a relation between elemnts of A and elements of B as R."
   ]
  },
  {
   "cell_type": "code",
   "execution_count": 10,
   "metadata": {},
   "outputs": [
    {
     "name": "stdout",
     "output_type": "stream",
     "text": [
      "A elements: ['(1,2)']\n"
     ]
    }
   ],
   "source": [
    "# A set :\n",
    "A = input('A elements: ').split(' ')\n",
    "print('A elements: ' + str(A))"
   ]
  },
  {
   "cell_type": "code",
   "execution_count": 11,
   "metadata": {},
   "outputs": [
    {
     "name": "stdout",
     "output_type": "stream",
     "text": [
      "B elements: ['']\n"
     ]
    }
   ],
   "source": [
    "# B set :\n",
    "B = input('B elements: ').split(' ')\n",
    "print('B elements: ' + str(B))"
   ]
  },
  {
   "cell_type": "code",
   "execution_count": 43,
   "metadata": {},
   "outputs": [
    {
     "name": "stdout",
     "output_type": "stream",
     "text": [
      "Relation : ['(1,1)', '(2,2)']\n"
     ]
    }
   ],
   "source": [
    "# Now we have to define our relation between A and B\n",
    "R = input('define R : (type of input -> (a, b))').split(' ')\n",
    "print('Relation : ' + str(R))\n"
   ]
  },
  {
   "cell_type": "markdown",
   "metadata": {},
   "source": [
    "Now we have to check if this relation is equivalence."
   ]
  },
  {
   "cell_type": "markdown",
   "metadata": {},
   "source": [
    "If a relation is equvalence: \n",
    "1. is symmetric\n",
    "2. is transitive\n",
    "3. is reflexive"
   ]
  },
  {
   "cell_type": "code",
   "execution_count": 44,
   "metadata": {},
   "outputs": [
    {
     "name": "stdout",
     "output_type": "stream",
     "text": [
      "(1,1)\n",
      "(2,2)\n",
      "R is symmetric\n"
     ]
    }
   ],
   "source": [
    "# check for symmetric:\n",
    "\n",
    "symmetric = False\n",
    "counter = 0\n",
    "for i in range(len(R)):\n",
    "    a = R[i][1]\n",
    "    b = R[i][3]\n",
    "    r = '(' + str(b) + ',' + str(a) + ')'\n",
    "    \n",
    "    print(r)\n",
    "    \n",
    "    if r in R:\n",
    "        counter += 1\n",
    "        \n",
    "if counter == len(R):\n",
    "    symmetric = True\n",
    "    print('R is symmetric')"
   ]
  },
  {
   "cell_type": "code",
   "execution_count": 45,
   "metadata": {},
   "outputs": [
    {
     "name": "stdout",
     "output_type": "stream",
     "text": [
      "R is transitive\n"
     ]
    }
   ],
   "source": [
    "# check for transitive:\n",
    "transitive = False\n",
    "counter1 = 0\n",
    "counter2 = 0\n",
    "\n",
    "c=''\n",
    "\n",
    "for i in range(len(R)):\n",
    "    a = R[i][1]\n",
    "    b = R[i][3]\n",
    "    \n",
    "    for j in range(len(R)) :\n",
    "        if i != j :\n",
    "            c = R[j][1]\n",
    "            d = R[j][3]\n",
    "        \n",
    "        if b == c :\n",
    "            counter1 += 1\n",
    "            r = '(' + str(a) + ',' + str(d) + ')'\n",
    "            if r in R:\n",
    "                counter2 += 1\n",
    "            \n",
    "if counter1 == counter2 :\n",
    "    transitive = True\n",
    "    print('R is transitive')"
   ]
  },
  {
   "cell_type": "code",
   "execution_count": 46,
   "metadata": {},
   "outputs": [
    {
     "name": "stdout",
     "output_type": "stream",
     "text": [
      "R is Reflexive\n"
     ]
    }
   ],
   "source": [
    "# check for reflexive:\n",
    "Reflexive = False\n",
    "counter = 0\n",
    "\n",
    "for i in range(len(R)):\n",
    "    a = R[i][1]\n",
    "    r = '(' + str(a) + ',' + str(a) + ')'\n",
    "    \n",
    "    if r in R:\n",
    "        counter += 1\n",
    "        \n",
    "if counter == len(R):\n",
    "    Reflexive = True\n",
    "    print('R is Reflexive')"
   ]
  },
  {
   "cell_type": "markdown",
   "metadata": {},
   "source": [
    "Now its time to figure out our relation is equivalence or not"
   ]
  },
  {
   "cell_type": "code",
   "execution_count": 47,
   "metadata": {},
   "outputs": [
    {
     "name": "stdout",
     "output_type": "stream",
     "text": [
      "R is equivalence\n"
     ]
    }
   ],
   "source": [
    "if symmetric and transitive and Reflexive:\n",
    "    print('R is equivalence')\n",
    "else:\n",
    "    print('R is not equivalence')"
   ]
  }
 ],
 "metadata": {
  "kernelspec": {
   "display_name": "Python 3",
   "language": "python",
   "name": "python3"
  },
  "language_info": {
   "codemirror_mode": {
    "name": "ipython",
    "version": 3
   },
   "file_extension": ".py",
   "mimetype": "text/x-python",
   "name": "python",
   "nbconvert_exporter": "python",
   "pygments_lexer": "ipython3",
   "version": "3.11.5"
  },
  "orig_nbformat": 4
 },
 "nbformat": 4,
 "nbformat_minor": 2
}
